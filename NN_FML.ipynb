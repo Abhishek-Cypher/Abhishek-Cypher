{
  "cells": [
    {
      "cell_type": "code",
      "execution_count": 1,
      "metadata": {
        "id": "BOvG_quK5_Wv"
      },
      "outputs": [],
      "source": [
        "import numpy as np \n",
        "import pandas as pd \n",
        "import seaborn as sns\n",
        "import matplotlib.pyplot as plt\n",
        "import tensorflow as tf\n",
        "from keras.models import Sequential\n",
        "from keras.layers import Dense\n",
        "import keras.layers as layers\n",
        "import keras\n",
        "from sklearn.model_selection import train_test_split\n",
        "from sklearn.feature_selection import SelectKBest, chi2"
      ]
    },
    {
      "cell_type": "code",
      "execution_count": 2,
      "metadata": {
        "id": "zlBSqTVE6Fao"
      },
      "outputs": [],
      "source": [
        "data = pd.read_csv(\"https://raw.githubusercontent.com/bs-cse-iitb/FML_Project/main/diabetes_full.csv\")\n",
        "data = data.drop_duplicates()"
      ]
    },
    {
      "cell_type": "code",
      "execution_count": 3,
      "metadata": {
        "id": "qdCso9aV1IvM",
        "colab": {
          "base_uri": "https://localhost:8080/"
        },
        "outputId": "5700b843-41a2-440b-a07a-c23bc7b28381"
      },
      "outputs": [
        {
          "output_type": "stream",
          "name": "stderr",
          "text": [
            "/usr/local/lib/python3.7/dist-packages/ipykernel_launcher.py:1: SettingWithCopyWarning: \n",
            "A value is trying to be set on a copy of a slice from a DataFrame.\n",
            "Try using .loc[row_indexer,col_indexer] = value instead\n",
            "\n",
            "See the caveats in the documentation: https://pandas.pydata.org/pandas-docs/stable/user_guide/indexing.html#returning-a-view-versus-a-copy\n",
            "  \"\"\"Entry point for launching an IPython kernel.\n",
            "/usr/local/lib/python3.7/dist-packages/pandas/core/frame.py:5047: SettingWithCopyWarning: \n",
            "A value is trying to be set on a copy of a slice from a DataFrame\n",
            "\n",
            "See the caveats in the documentation: https://pandas.pydata.org/pandas-docs/stable/user_guide/indexing.html#returning-a-view-versus-a-copy\n",
            "  errors=errors,\n"
          ]
        }
      ],
      "source": [
        "data['Diabetes_012'] = np.where(data['Diabetes_012'] == 0.0,0.0,1.0)\n",
        "data.Diabetes_012.value_counts()\n",
        "data.rename(columns={'Diabetes_012':'Diabetes_binary'},inplace=True)"
      ]
    },
    {
      "cell_type": "code",
      "execution_count": 4,
      "metadata": {
        "id": "HdSPEkpDnjTf"
      },
      "outputs": [],
      "source": [
        "# sns.barplot(data.Diabetes_binary.value_counts().index,data.Diabetes_binary.value_counts().values)"
      ]
    },
    {
      "cell_type": "code",
      "execution_count": 5,
      "metadata": {
        "colab": {
          "base_uri": "https://localhost:8080/",
          "height": 421
        },
        "id": "Fi-_9WyB6uOs",
        "outputId": "a3cacc7d-dc1f-4987-8064-b253f4acd556"
      },
      "outputs": [
        {
          "output_type": "stream",
          "name": "stderr",
          "text": [
            "/usr/local/lib/python3.7/dist-packages/seaborn/_decorators.py:43: FutureWarning: Pass the following variables as keyword args: x, y. From version 0.12, the only valid positional argument will be `data`, and passing other arguments without an explicit keyword will result in an error or misinterpretation.\n",
            "  FutureWarning\n"
          ]
        },
        {
          "output_type": "display_data",
          "data": {
            "text/plain": [
              "<Figure size 432x288 with 1 Axes>"
            ],
            "image/png": "[encoded data removed]"
          },
          "metadata": {
            "needs_background": "light"
          }
        }
      ],
      "source": [
        "corr = data.corr()\n",
        "graph = sns.barplot(corr.Diabetes_binary.index,corr.Diabetes_binary.values)\n",
        "graph.set_xticklabels(labels=corr.Diabetes_binary.index, rotation=90)\n",
        "\n",
        "plt.show()"
      ]
    },
    {
      "cell_type": "code",
      "execution_count": 6,
      "metadata": {
        "id": "6eaNmKY87aYH"
      },
      "outputs": [],
      "source": [
        "variables_to_drop = ['Fruits','Veggies','AnyHealthcare','NoDocbcCost','Sex']\n",
        "\n",
        "data.drop(variables_to_drop,axis=1,inplace=True)\n"
      ]
    },
    {
      "cell_type": "code",
      "execution_count": 7,
      "metadata": {
        "id": "YTU2JDmi-M5o"
      },
      "outputs": [],
      "source": [
        "y = data.Diabetes_binary\n",
        "X = data.drop('Diabetes_binary',axis = 1)"
      ]
    },
    {
      "cell_type": "code",
      "execution_count": 8,
      "metadata": {
        "id": "Y-d_sK44-wwb"
      },
      "outputs": [],
      "source": [
        "# # continous_var_list = ['BMI','MentHlth','PhysHlth']\n",
        "# continous_var_list = []\n",
        "\n",
        "# categorical_var  = []\n",
        "# for var in X.columns:\n",
        "#   if var not in continous_var_list:\n",
        "#     categorical_var.append(var)\n",
        "# print(categorical_var)\n",
        "# X = pd.get_dummies(X,columns=categorical_var)"
      ]
    },
    {
      "cell_type": "code",
      "execution_count": 9,
      "metadata": {
        "id": "qRvRca2SGCbX"
      },
      "outputs": [],
      "source": [
        "X = np.asarray(X)\n",
        "y = np.asarray(y)"
      ]
    },
    {
      "cell_type": "code",
      "execution_count": 10,
      "metadata": {
        "colab": {
          "base_uri": "https://localhost:8080/"
        },
        "id": "A6yXmYEk82Oz",
        "outputId": "6688e5dc-ddeb-4647-c2bf-e3ae8c5f3ad7"
      },
      "outputs": [
        {
          "output_type": "stream",
          "name": "stdout",
          "text": [
            "(79452, 16)\n"
          ]
        }
      ],
      "source": [
        "from imblearn.under_sampling import NearMiss,CondensedNearestNeighbour,TomekLinks,EditedNearestNeighbours\n",
        "from imblearn.over_sampling import RandomOverSampler, SMOTE, ADASYN\n",
        "\n",
        "# nm = TomekLinks() # accuracy: 0.8358 - 10min\n",
        "# nm = EditedNearestNeighbours(n_neighbors=3) # accuracy: 0.8560 - 13min (n=3)\n",
        "nm = NearMiss(version = 1 , n_neighbors = 20) #accuracy: 0.8626 - 5min (n=20) // 0.853439 when 1-Hot done after undersampling\n",
        "# nm = NearMiss(version = 1 , n_neighbors = 10) #accuracy: 0.8559 - 4min (n=10) // 0.849852 when 1-Hot done after undersampling\n",
        "# # nm = NearMiss(version = 1 , n_neighbors = 5) #0.844755 - 3min (n=5)\n",
        "\n",
        "# from imblearn.over_sampling import RandomOverSampler, SMOTE, ADASYN\n",
        "# nm = SMOTE() # accuracy: 0.8314\n",
        "# nm = ADASYN() # accuracy: 0.8213\n",
        "\n",
        "x_sm,y_sm= nm.fit_resample(X,y)\n",
        "X,y=x_sm,y_sm \n",
        "\n",
        "print(X.shape)"
      ]
    },
    {
      "cell_type": "code",
      "execution_count": 11,
      "metadata": {
        "id": "BORvABdr91Xr"
      },
      "outputs": [],
      "source": [
        "X_train,X_test,y_train,y_test = train_test_split(X,y,random_state=42,train_size=0.8)"
      ]
    },
    {
      "cell_type": "code",
      "execution_count": 12,
      "metadata": {
        "id": "z1b_PyiaCUhi"
      },
      "outputs": [],
      "source": [
        "from sklearn.preprocessing import MaxAbsScaler,StandardScaler,MinMaxScaler,RobustScaler,PowerTransformer,QuantileTransformer\n",
        "\n",
        "scaler = RobustScaler().fit(X_train)\n",
        "X_train = scaler.transform(X_train)\n",
        "X_test = scaler.transform(X_test)  \n",
        "\n",
        "# mixmax - accuracy: 0.8537\n",
        "# maxabs - accuracy: 0.8499\n",
        "# standard - accuracy: 0.8634\n",
        "# robust - accuracy: 0.8658\n",
        "# power - accuracy: 0.8643\n",
        "# quantile - accuracy: 0.8520"
      ]
    },
    {
      "cell_type": "code",
      "execution_count": 13,
      "metadata": {
        "colab": {
          "base_uri": "https://localhost:8080/"
        },
        "id": "8uIR0VcVtA55",
        "outputId": "30e77597-6ada-45b2-8c95-6a031f717846"
      },
      "outputs": [
        {
          "output_type": "execute_result",
          "data": {
            "text/plain": [
              "(63561, 16)"
            ]
          },
          "metadata": {},
          "execution_count": 13
        }
      ],
      "source": [
        "X_train.shape"
      ]
    },
    {
      "cell_type": "code",
      "execution_count": 20,
      "metadata": {
        "colab": {
          "base_uri": "https://localhost:8080/"
        },
        "id": "4IgUjnYg_fvc",
        "outputId": "df7fba5d-c4d0-4b58-953a-8bce5441f44a"
      },
      "outputs": [
        {
          "output_type": "stream",
          "name": "stdout",
          "text": [
            "Epoch 1/30\n",
            "795/795 [==============================] - 6s 6ms/step - loss: 0.3562 - accuracy: 0.8404 - val_loss: 0.3356 - val_accuracy: 0.8531\n",
            "Epoch 2/30\n",
            "795/795 [==============================] - 2s 2ms/step - loss: 0.3304 - accuracy: 0.8566 - val_loss: 0.3280 - val_accuracy: 0.8592\n",
            "Epoch 3/30\n",
            "795/795 [==============================] - 2s 2ms/step - loss: 0.3204 - accuracy: 0.8616 - val_loss: 0.3175 - val_accuracy: 0.8641\n",
            "Epoch 4/30\n",
            "795/795 [==============================] - 2s 2ms/step - loss: 0.3136 - accuracy: 0.8657 - val_loss: 0.3152 - val_accuracy: 0.8656\n",
            "Epoch 5/30\n",
            "795/795 [==============================] - 2s 2ms/step - loss: 0.3095 - accuracy: 0.8678 - val_loss: 0.3091 - val_accuracy: 0.8673\n",
            "Epoch 6/30\n",
            "795/795 [==============================] - 2s 2ms/step - loss: 0.3051 - accuracy: 0.8701 - val_loss: 0.3076 - val_accuracy: 0.8678\n",
            "Epoch 7/30\n",
            "795/795 [==============================] - 3s 4ms/step - loss: 0.3020 - accuracy: 0.8710 - val_loss: 0.3055 - val_accuracy: 0.8678\n",
            "Epoch 8/30\n",
            "795/795 [==============================] - 2s 2ms/step - loss: 0.2998 - accuracy: 0.8713 - val_loss: 0.3071 - val_accuracy: 0.8679\n",
            "Epoch 9/30\n",
            "795/795 [==============================] - 2s 2ms/step - loss: 0.2977 - accuracy: 0.8722 - val_loss: 0.3022 - val_accuracy: 0.8686\n",
            "Epoch 10/30\n",
            "795/795 [==============================] - 3s 4ms/step - loss: 0.2955 - accuracy: 0.8726 - val_loss: 0.3010 - val_accuracy: 0.8690\n",
            "Epoch 11/30\n",
            "795/795 [==============================] - 2s 2ms/step - loss: 0.2934 - accuracy: 0.8727 - val_loss: 0.2989 - val_accuracy: 0.8706\n",
            "Epoch 12/30\n",
            "795/795 [==============================] - 2s 2ms/step - loss: 0.2920 - accuracy: 0.8741 - val_loss: 0.2986 - val_accuracy: 0.8693\n",
            "Epoch 13/30\n",
            "795/795 [==============================] - 2s 2ms/step - loss: 0.2918 - accuracy: 0.8746 - val_loss: 0.2978 - val_accuracy: 0.8702\n",
            "Epoch 14/30\n",
            "795/795 [==============================] - 2s 2ms/step - loss: 0.2909 - accuracy: 0.8749 - val_loss: 0.2970 - val_accuracy: 0.8701\n",
            "Epoch 15/30\n",
            "795/795 [==============================] - 2s 2ms/step - loss: 0.2894 - accuracy: 0.8752 - val_loss: 0.2999 - val_accuracy: 0.8668\n",
            "Epoch 16/30\n",
            "795/795 [==============================] - 2s 2ms/step - loss: 0.2886 - accuracy: 0.8754 - val_loss: 0.2973 - val_accuracy: 0.8697\n",
            "Epoch 17/30\n",
            "795/795 [==============================] - 2s 2ms/step - loss: 0.2882 - accuracy: 0.8762 - val_loss: 0.2965 - val_accuracy: 0.8704\n",
            "Epoch 18/30\n",
            "795/795 [==============================] - 2s 2ms/step - loss: 0.2878 - accuracy: 0.8764 - val_loss: 0.2966 - val_accuracy: 0.8703\n",
            "Epoch 19/30\n",
            "795/795 [==============================] - 2s 2ms/step - loss: 0.2871 - accuracy: 0.8763 - val_loss: 0.2982 - val_accuracy: 0.8673\n",
            "Epoch 20/30\n",
            "795/795 [==============================] - 2s 2ms/step - loss: 0.2864 - accuracy: 0.8766 - val_loss: 0.2984 - val_accuracy: 0.8686\n",
            "Epoch 21/30\n",
            "795/795 [==============================] - 2s 2ms/step - loss: 0.2860 - accuracy: 0.8764 - val_loss: 0.2995 - val_accuracy: 0.8695\n",
            "Epoch 22/30\n",
            "795/795 [==============================] - 2s 2ms/step - loss: 0.2864 - accuracy: 0.8768 - val_loss: 0.2977 - val_accuracy: 0.8694\n",
            "Epoch 23/30\n",
            "795/795 [==============================] - 2s 2ms/step - loss: 0.2849 - accuracy: 0.8773 - val_loss: 0.2952 - val_accuracy: 0.8691\n",
            "Epoch 24/30\n",
            "795/795 [==============================] - 2s 2ms/step - loss: 0.2845 - accuracy: 0.8780 - val_loss: 0.2951 - val_accuracy: 0.8709\n",
            "Epoch 25/30\n",
            "795/795 [==============================] - 2s 2ms/step - loss: 0.2842 - accuracy: 0.8775 - val_loss: 0.2959 - val_accuracy: 0.8704\n",
            "Epoch 26/30\n",
            "795/795 [==============================] - 2s 2ms/step - loss: 0.2842 - accuracy: 0.8776 - val_loss: 0.2968 - val_accuracy: 0.8693\n",
            "Epoch 27/30\n",
            "795/795 [==============================] - 2s 2ms/step - loss: 0.2836 - accuracy: 0.8779 - val_loss: 0.2963 - val_accuracy: 0.8683\n",
            "Epoch 28/30\n",
            "795/795 [==============================] - 2s 2ms/step - loss: 0.2838 - accuracy: 0.8776 - val_loss: 0.2963 - val_accuracy: 0.8689\n",
            "Epoch 29/30\n",
            "795/795 [==============================] - 2s 2ms/step - loss: 0.2834 - accuracy: 0.8779 - val_loss: 0.2972 - val_accuracy: 0.8679\n",
            "Epoch 30/30\n",
            "795/795 [==============================] - 2s 2ms/step - loss: 0.2827 - accuracy: 0.8787 - val_loss: 0.2968 - val_accuracy: 0.8695\n",
            "497/497 [==============================] - 1s 2ms/step\n",
            "1987/1987 [==============================] - 6s 3ms/step\n",
            "Neural Network Max Accuracy :  0.8703668743313825\n",
            "1987/1987 [==============================] - 2s 1ms/step\n",
            "497/497 [==============================] - 1s 1ms/step\n",
            "~~~  TRAIN ACCURACY  ~~~\n",
            "              precision    recall  f1-score   support\n",
            "\n",
            "         0.0   0.820580  0.966390  0.887536     31836\n",
            "         1.0   0.958954  0.787959  0.865087     31725\n",
            "\n",
            "    accuracy                       0.877330     63561\n",
            "   macro avg   0.889767  0.877175  0.876312     63561\n",
            "weighted avg   0.889646  0.877330  0.876331     63561\n",
            "\n",
            "~~~  TEST ACCURACY  ~~~\n",
            "              precision    recall  f1-score   support\n",
            "\n",
            "         0.0   0.811698  0.962104  0.880524      7890\n",
            "         1.0   0.954274  0.779903  0.858322      8001\n",
            "\n",
            "    accuracy                       0.870367     15891\n",
            "   macro avg   0.882986  0.871003  0.869423     15891\n",
            "weighted avg   0.883484  0.870367  0.869346     15891\n",
            "\n"
          ]
        }
      ],
      "source": [
        "from sklearn.metrics import accuracy_score\n",
        "\n",
        "# Grid Search NN\n",
        "max_accuracy = 0.0\n",
        "best_model = None\n",
        "\n",
        "for i in {0.001}:\n",
        "  for j in {64}:\n",
        "    for k in {30}:\n",
        "      \n",
        "      model = Sequential()\n",
        "      model.add(layers.InputLayer((X_train.shape[1],)))\n",
        "      model.add(Dense(32,activation='relu'))\n",
        "      model.add(Dense(64,activation='relu'))\n",
        "      model.add(Dense(1,activation='sigmoid'))\n",
        "\n",
        "      optimizer = keras.optimizers.Adam(learning_rate = i)\n",
        "      model.compile(loss='binary_crossentropy', optimizer=optimizer, metrics=['accuracy'])\n",
        "      history = model.fit(X_train,y_train,batch_size=j,epochs=k,validation_split=0.2)\n",
        "      p_pred = model.predict(X_test)\n",
        "      p_pred = p_pred.flatten()\n",
        "\n",
        "      # extract the predicted class labels\n",
        "      y_pred = np.where(p_pred > 0.5, 1, 0)\n",
        "      \n",
        "      current_accuracy = accuracy_score(y_test,y_pred)\n",
        "      if(current_accuracy > max_accuracy):\n",
        "        best_model = model\n",
        "        max_accuracy = current_accuracy\n",
        "\n",
        "y_pred = best_model.predict(X_train)\n",
        "print(\"Neural Network Max Accuracy : \",max_accuracy)\n",
        "\n",
        "neuralNetworkModel = best_model\n",
        "\n",
        "y_val = neuralNetworkModel.predict(X_train)\n",
        "\n",
        "# extract the predicted class labels\n",
        "y_val = np.where(y_val > 0.5, 1, 0)\n",
        "y_pred = neuralNetworkModel.predict(X_test)\n",
        "\n",
        "y_pred = y_pred.flatten()\n",
        "\n",
        "# extract the predicted class labels\n",
        "y_pred = np.where(p_pred > 0.5, 1, 0)"
      ]
    },
    {
      "cell_type": "code",
      "source": [
        "from sklearn.metrics import classification_report\n",
        "\n",
        "print(\"~~~  TRAIN ACCURACY  ~~~\")\n",
        "print(classification_report(y_train, y_val, digits=6))\n",
        "\n",
        "print(\"~~~  TEST ACCURACY  ~~~\")\n",
        "print(classification_report(y_test, y_pred, digits=6))"
      ],
      "metadata": {
        "colab": {
          "base_uri": "https://localhost:8080/"
        },
        "id": "-o_Lg-G4RS-7",
        "outputId": "0b32e905-ce2b-4f81-e02e-e08cbcdcd960"
      },
      "execution_count": 21,
      "outputs": [
        {
          "output_type": "stream",
          "name": "stdout",
          "text": [
            "~~~  TRAIN ACCURACY  ~~~\n",
            "              precision    recall  f1-score   support\n",
            "\n",
            "         0.0   0.820580  0.966390  0.887536     31836\n",
            "         1.0   0.958954  0.787959  0.865087     31725\n",
            "\n",
            "    accuracy                       0.877330     63561\n",
            "   macro avg   0.889767  0.877175  0.876312     63561\n",
            "weighted avg   0.889646  0.877330  0.876331     63561\n",
            "\n",
            "~~~  TEST ACCURACY  ~~~\n",
            "              precision    recall  f1-score   support\n",
            "\n",
            "         0.0   0.811698  0.962104  0.880524      7890\n",
            "         1.0   0.954274  0.779903  0.858322      8001\n",
            "\n",
            "    accuracy                       0.870367     15891\n",
            "   macro avg   0.882986  0.871003  0.869423     15891\n",
            "weighted avg   0.883484  0.870367  0.869346     15891\n",
            "\n"
          ]
        }
      ]
    },
    {
      "cell_type": "code",
      "execution_count": 15,
      "metadata": {
        "id": "x3ZcrGn_BSjB"
      },
      "outputs": [],
      "source": [
        "# history = model.fit(X_train,y_train,batch_size=256,epochs=20,validation_split=0.2) # accuracy: 0.8680\n",
        "# history = model.fit(X_train,y_train,batch_size=256,epochs=50,validation_split=0.2) # accuracy: 0.8682"
      ]
    },
    {
      "cell_type": "code",
      "execution_count": 18,
      "metadata": {
        "id": "cVzyO7C7HTdT",
        "colab": {
          "base_uri": "https://localhost:8080/",
          "height": 791
        },
        "outputId": "cd616366-99a9-4fa4-f74a-8ac300d239ad"
      },
      "outputs": [
        {
          "output_type": "display_data",
          "data": {
            "text/plain": [
              "<IPython.core.display.Javascript object>"
            ],
            "application/javascript": [
              "\n",
              "    async function download(id, filename, size) {\n",
              "      if (!google.colab.kernel.accessAllowed) {\n",
              "        return;\n",
              "      }\n",
              "      const div = document.createElement('div');\n",
              "      const label = document.createElement('label');\n",
              "      label.textContent = `Downloading \"${filename}\": `;\n",
              "      div.appendChild(label);\n",
              "      const progress = document.createElement('progress');\n",
              "      progress.max = size;\n",
              "      div.appendChild(progress);\n",
              "      document.body.appendChild(div);\n",
              "\n",
              "      const buffers = [];\n",
              "      let downloaded = 0;\n",
              "\n",
              "      const channel = await google.colab.kernel.comms.open(id);\n",
              "      // Send a message to notify the kernel that we're ready.\n",
              "      channel.send({})\n",
              "\n",
              "      for await (const message of channel.messages) {\n",
              "        // Send a message to notify the kernel that we're ready.\n",
              "        channel.send({})\n",
              "        if (message.buffers) {\n",
              "          for (const buffer of message.buffers) {\n",
              "            buffers.push(buffer);\n",
              "            downloaded += buffer.byteLength;\n",
              "            progress.value = downloaded;\n",
              "          }\n",
              "        }\n",
              "      }\n",
              "      const blob = new Blob(buffers, {type: 'application/binary'});\n",
              "      const a = document.createElement('a');\n",
              "      a.href = window.URL.createObjectURL(blob);\n",
              "      a.download = filename;\n",
              "      div.appendChild(a);\n",
              "      a.click();\n",
              "      div.remove();\n",
              "    }\n",
              "  "
            ]
          },
          "metadata": {}
        },
        {
          "output_type": "display_data",
          "data": {
            "text/plain": [
              "<IPython.core.display.Javascript object>"
            ],
            "application/javascript": [
              "download(\"download_fc0a6bce-3b80-4fd8-b8c8-7071d4755e79\", \"nn1.pdf\", 12494)"
            ]
          },
          "metadata": {}
        },
        {
          "output_type": "display_data",
          "data": {
            "text/plain": [
              "<IPython.core.display.Javascript object>"
            ],
            "application/javascript": [
              "\n",
              "    async function download(id, filename, size) {\n",
              "      if (!google.colab.kernel.accessAllowed) {\n",
              "        return;\n",
              "      }\n",
              "      const div = document.createElement('div');\n",
              "      const label = document.createElement('label');\n",
              "      label.textContent = `Downloading \"${filename}\": `;\n",
              "      div.appendChild(label);\n",
              "      const progress = document.createElement('progress');\n",
              "      progress.max = size;\n",
              "      div.appendChild(progress);\n",
              "      document.body.appendChild(div);\n",
              "\n",
              "      const buffers = [];\n",
              "      let downloaded = 0;\n",
              "\n",
              "      const channel = await google.colab.kernel.comms.open(id);\n",
              "      // Send a message to notify the kernel that we're ready.\n",
              "      channel.send({})\n",
              "\n",
              "      for await (const message of channel.messages) {\n",
              "        // Send a message to notify the kernel that we're ready.\n",
              "        channel.send({})\n",
              "        if (message.buffers) {\n",
              "          for (const buffer of message.buffers) {\n",
              "            buffers.push(buffer);\n",
              "            downloaded += buffer.byteLength;\n",
              "            progress.value = downloaded;\n",
              "          }\n",
              "        }\n",
              "      }\n",
              "      const blob = new Blob(buffers, {type: 'application/binary'});\n",
              "      const a = document.createElement('a');\n",
              "      a.href = window.URL.createObjectURL(blob);\n",
              "      a.download = filename;\n",
              "      div.appendChild(a);\n",
              "      a.click();\n",
              "      div.remove();\n",
              "    }\n",
              "  "
            ]
          },
          "metadata": {}
        },
        {
          "output_type": "display_data",
          "data": {
            "text/plain": [
              "<IPython.core.display.Javascript object>"
            ],
            "application/javascript": [
              "download(\"download_18a8e9c6-a670-47c5-86ae-839aadb2ed7e\", \"nn2.pdf\", 11766)"
            ]
          },
          "metadata": {}
        },
        {
          "output_type": "display_data",
          "data": {
            "text/plain": [
              "<Figure size 720x432 with 1 Axes>"
            ],
            "image/png": "[encoded data removed]"
          },
          "metadata": {
            "needs_background": "light"
          }
        },
        {
          "output_type": "display_data",
          "data": {
            "text/plain": [
              "<Figure size 720x432 with 1 Axes>"
            ],
            "image/png": "[encoded data removed]"
          },
          "metadata": {
            "needs_background": "light"
          }
        }
      ],
      "source": [
        "import matplotlib.pyplot as plt\n",
        "fig = plt.figure(figsize=(10, 6))\n",
        "\n",
        "# summarize history for accuracy\n",
        "plt.plot(history.history['accuracy'])\n",
        "plt.plot(history.history['val_accuracy'])\n",
        "plt.title('model accuracy')\n",
        "plt.ylabel('accuracy')\n",
        "plt.xlabel('epoch')\n",
        "plt.legend(['train', 'test'], loc='upper left')\n",
        "from google.colab import files\n",
        "plt.savefig(\"nn1.pdf\", bbox_inches = 'tight')\n",
        "files.download(\"nn1.pdf\")\n",
        "\n",
        "fig = plt.figure(figsize=(10, 6))\n",
        "# summarize history for loss\n",
        "plt.plot(history.history['loss'])\n",
        "plt.plot(history.history['val_loss'])\n",
        "plt.title('model loss')\n",
        "plt.ylabel('loss')\n",
        "plt.xlabel('epoch')\n",
        "plt.legend(['train', 'test'], loc='upper left')\n",
        "\n",
        "from google.colab import files\n",
        "plt.savefig(\"nn2.pdf\", bbox_inches = 'tight')\n",
        "files.download(\"nn2.pdf\")"
      ]
    },
    {
      "cell_type": "code",
      "execution_count": 17,
      "metadata": {
        "colab": {
          "base_uri": "https://localhost:8080/"
        },
        "id": "2tKukRFKCfUy",
        "outputId": "43d2485c-4d1f-4e80-d844-90a312a78a29"
      },
      "outputs": [
        {
          "output_type": "stream",
          "name": "stdout",
          "text": [
            "497/497 [==============================] - 1s 1ms/step - loss: 0.2983 - accuracy: 0.8721\n"
          ]
        },
        {
          "output_type": "execute_result",
          "data": {
            "text/plain": [
              "[0.2982980012893677, 0.8720659613609314]"
            ]
          },
          "metadata": {},
          "execution_count": 17
        }
      ],
      "source": [
        "model.evaluate(X_test,y_test)"
      ]
    }
  ],
  "metadata": {
    "colab": {
      "provenance": []
    },
    "kernelspec": {
      "display_name": "Python 3",
      "name": "python3"
    },
    "language_info": {
      "name": "python"
    }
  },
  "nbformat": 4,
  "nbformat_minor": 0
}